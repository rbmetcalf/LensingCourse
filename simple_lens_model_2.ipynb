{
 "cells": [
  {
   "cell_type": "markdown",
   "id": "019834db",
   "metadata": {},
   "source": [
    "**Simple Lens Modeling 2**\n",
    "\n",
    "Here we will see how to find uncertainties in the lens model parameters and convert those parameters into physical quantities.\n",
    "\n",
    "First we will import some libraries, the lens models and the $\\chi^2$ objects that were in the last tutorial.  They have been but into the two files ``lens_model.py`` and ``chi_squareds.py``."
   ]
  },
  {
   "cell_type": "code",
   "execution_count": null,
   "id": "da1c6656",
   "metadata": {},
   "outputs": [],
   "source": [
    "import numpy as np\n",
    "import matplotlib.pyplot as plt\n",
    "plt.rc('axes', labelsize=20)\n",
    "plt.rc('legend', fontsize=5) \n",
    "from scipy.optimize import minimize,fsolve,brentq\n",
    "\n",
    "import astropy.cosmology as cosmo\n",
    "# import the lens models from the last tutorial\n",
    "from lens_models import *\n",
    "# import the chi2 from the last tutorial\n",
    "from chi_squareds import CHI_SQUARED_SOURCE,CHI_SQUARED_IMAGE"
   ]
  },
  {
   "cell_type": "markdown",
   "id": "cbb77a43",
   "metadata": {},
   "source": [
    "Now we will enter the data for HE0435-1223 again, create an SIE model and fit it to the data.  A combination of source plane opimization (SPO) and image plane optimization (IPO) seems to work best.  We use SPO to get a model with the right number of images and then switch to IPO to get the correct errors and perhaps a better model.  The best fit SPO model is used as an initialization for the IPO.    "
   ]
  },
  {
   "cell_type": "code",
   "execution_count": null,
   "id": "29d8738e",
   "metadata": {},
   "outputs": [],
   "source": [
    "x_0435 =  np.array([[0,0],[-1.476,0.552],[-2.467,-0.603],[-0.939,-1.614]])\n",
    "xo_0435 = np.array([-1.165,-0.573])\n",
    "\n",
    "sie = sie_lens(xo_0435,1,0.999,0)\n",
    "po =np.array([1.119,0.9,0])  \n",
    "\n",
    "# create the chi2 object\n",
    "chi2 = CHI_SQUARED_SOURCE(sie,x_0435)\n",
    "result_sie = minimize(chi2,po,bounds=[[0,2],[0.2,0.99],[0,np.pi]])\n",
    "# print the results\n",
    "print(\"SIE result for Q0435-1223 SIE\")\n",
    "print(result_sie)\n",
    "# make a plot\n",
    "chi2.plot(result_sie,title='SIE Q0435-1223 ')\n",
    "\n",
    "# create the chi2 object\n",
    "chi2 = CHI_SQUARED_IMAGE(sie,x_0435)\n",
    "po = result_sie.x\n",
    "result_sie = minimize(chi2,po,bounds=[[0,2],[0.2,0.99],[0,np.pi]])\n",
    "# print the results\n",
    "print(\"SIE result for Q0435-1223 SIE\")\n",
    "print(result_sie)\n",
    "# make a plot\n",
    "chi2.plot(result_sie,title='SIE Q0435-1223 ')"
   ]
  },
  {
   "cell_type": "markdown",
   "id": "772b567e",
   "metadata": {},
   "source": [
    "Now we should have found a good model.  Now we need to find the errors on the parameters.\n",
    "\n",
    "To do this we use the python package ```lmfit```. This package allows us to build complex fitting models for non-linear least-squares problems. The package documentation can be found at this [link](https://lmfit.github.io/lmfit-py/index.html).\n",
    "\n",
    "We begin by setting up some initial guesses for the model parameters, storing them in a ``lmfit.Parameter`` object, including also some plausible ranges for the parameters.  There is also a boolian flag for each parameter which allows you to stop fitting a particular parameter."
   ]
  },
  {
   "cell_type": "code",
   "execution_count": null,
   "id": "17752dba",
   "metadata": {},
   "outputs": [],
   "source": [
    "import lmfit\n",
    "\n",
    "degrees_to_rad = np.pi/180.\n",
    "\n",
    "# initial guesses and ranges for parameters:\n",
    "p = lmfit.Parameters()\n",
    "p.add_many(('theta_e',result_sie.x[0],True,0,2)\n",
    "           ,('fratio',result_sie.x[1],True, 0.2, 0.999)\n",
    "           ,('p_angle',result_sie.x[2]/degrees_to_rad,True,0,180))\n",
    "# For each parameter, we specify a initial value, a flag, two other values\n",
    "# defining the search range. If the flag is True the parameter is free\n",
    "# to vary, otherwise it is fixed to the initial value."
   ]
  },
  {
   "cell_type": "markdown",
   "id": "43323889",
   "metadata": {},
   "source": [
    "Now we need to a function to optimize which should be the IPO $\\chi^2$, but one that accepts a ``lmfit.Parameters()`` object.  We also need the log of the likelihood which is closely related."
   ]
  },
  {
   "cell_type": "code",
   "execution_count": null,
   "id": "9abfa91c",
   "metadata": {},
   "outputs": [],
   "source": [
    "chi2 = CHI_SQUARED_IMAGE(sie,x_0435)\n",
    "sigma = 0.05 ###  error in the position of the images in each dimension\n",
    "\n",
    "# chi squared of cost function\n",
    "def chi_squared(p):\n",
    "    return chi2( [p['theta_e'],p['fratio'],p['p_angle']*degrees_to_rad] )\n",
    "\n",
    "# log-likelihood function\n",
    "def lnprob(p):\n",
    "    lnp = -0.5 * chi_squared(p) /sigma/sigma\n",
    "    lnp = lnp - len(xo_0435) * np.log(2 * np.pi * sigma**2)\n",
    "    return lnp"
   ]
  },
  {
   "cell_type": "markdown",
   "id": "4a91820c",
   "metadata": {},
   "source": [
    "Using ```lmfit``` we will find the best fit model again and at the same time create the ``minimize`` object which we need."
   ]
  },
  {
   "cell_type": "code",
   "execution_count": null,
   "id": "785dc872",
   "metadata": {},
   "outputs": [],
   "source": [
    "mi = lmfit.minimize(chi_squared, p, method='Nelder')\n",
    "lmfit.printfuncs.report_fit(mi.params, min_correl=0.5)"
   ]
  },
  {
   "cell_type": "markdown",
   "id": "bd3c6faa",
   "metadata": {},
   "source": [
    "We should get back the same best-fit model or something close to it if everything is going well.\n",
    "\n",
    "Now we are ready!  We will run the Monte Carlo Markov Chain (MCMC) using the ``'emcee'`` ``method``.  We use 100 independent chains (``nwalkers``) with a burn in period of 500 steps (``burn``).  We will let each chain go for 2000 steps (``steps``).\n",
    "\n",
    "This might take a little while to run."
   ]
  },
  {
   "cell_type": "code",
   "execution_count": null,
   "id": "e7ba7d8a",
   "metadata": {},
   "outputs": [],
   "source": [
    "\n",
    "res = lmfit.minimize(lnprob, method='emcee',\n",
    "                     nan_policy='omit', \n",
    "                     nwalkers=_____, burn=_____, steps=____, \n",
    "                     params=mi.params,\n",
    "                     progress=True)\n"
   ]
  },
  {
   "cell_type": "markdown",
   "id": "37a356ba",
   "metadata": {},
   "source": [
    "Now we will make a \"corner\" plot of the Monte Carlo chain estimate of the posterior for the lens parameters.  To run this you might have to install the ```corner``` plot package (```python -m pip install corner```)."
   ]
  },
  {
   "cell_type": "code",
   "execution_count": null,
   "id": "f421b6f8",
   "metadata": {},
   "outputs": [],
   "source": [
    "# show corner plot (confidence limits, parameter distributions, correlations)\n",
    "import corner\n",
    "labels=[r'$\\theta_E$',r'$f$',r'$\\phi$']\n",
    "figure=corner.corner(res.flatchain, labels=labels, \n",
    "                     show_titles=True, title_kwargs={\"fontsize\": 12})"
   ]
  },
  {
   "cell_type": "markdown",
   "id": "66adf33f",
   "metadata": {},
   "source": [
    "Calculate the physical size of the Einstein radius for HE0435-1223.  You can use the astropy.cosmology package to calculate the distances.  Calculate the critical density for this lens and mass within the Einstein radius."
   ]
  },
  {
   "cell_type": "code",
   "execution_count": null,
   "id": "e4067807",
   "metadata": {},
   "outputs": [],
   "source": [
    "# these might be useful\n",
    "from astropy import constants as const \n",
    "from astropy import units as u\n",
    "import astropy.cosmology as cosmo\n",
    "def sc_note(n) :  ## this prints numbers in scientific notation\n",
    "    return \"{:e}\".format(n)\n",
    "\n",
    "cos = cosmo.FlatLambdaCDM(67.4,0.315)\n",
    "\n",
    "zs = 1.689\n",
    "zl = 0.45\n",
    "\n",
    "Dl = cos.angular_diameter_distance_z1z2(____,____)\n",
    "Ds = _____\n",
    "Dls = _____\n",
    "\n",
    "# Using result_sie, what is the Einstein radius in radians\n",
    "theta_e = _____\n",
    "print(\" Einstein radius in radians \",theta_e)\n",
    "\n",
    "# Einstein radius in kpc\n",
    "Re = theta_e * ____ *( 1000*u.kpc/u.Mpc )\n",
    "print(\" Einstein radius \",Re)\n",
    "\n",
    "# Critical density in Msolar / kpc**2\n",
    "\n",
    "Sigma_crit = _________\n",
    "print(Sigma_crit)\n",
    "Sigma_crit = Sigma_crit * ( u.m*u.Mpc.to('m')/u.Mpc )\n",
    "print(Sigma_crit)\n",
    "Sigma_crit = Sigma_crit * ( u.M_sun/u.M_sun.to('kg')/u.kg )\n",
    "print(Sigma_crit)\n",
    "Sigma_crit = Sigma_crit * ( u.Mpc/1000/u.kpc)**2\n",
    "print(sc_note(Sigma_crit))\n",
    "\n",
    "# mass within the Einstein radius\n",
    "M = _______\n",
    "print('Einstein mass : ',sc_note(M))"
   ]
  }
 ],
 "metadata": {
  "kernelspec": {
   "display_name": "Python 3 (ipykernel)",
   "language": "python",
   "name": "python3"
  },
  "language_info": {
   "codemirror_mode": {
    "name": "ipython",
    "version": 3
   },
   "file_extension": ".py",
   "mimetype": "text/x-python",
   "name": "python",
   "nbconvert_exporter": "python",
   "pygments_lexer": "ipython3",
   "version": "3.9.5"
  }
 },
 "nbformat": 4,
 "nbformat_minor": 5
}
